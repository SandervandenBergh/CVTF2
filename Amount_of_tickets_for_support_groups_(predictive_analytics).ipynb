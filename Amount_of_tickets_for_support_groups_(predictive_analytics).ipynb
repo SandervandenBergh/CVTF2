{
  "cells": [
    {
      "cell_type": "markdown",
      "metadata": {
        "id": "view-in-github",
        "colab_type": "text"
      },
      "source": [
        "<a href=\"https://colab.research.google.com/github/SandervandenBergh/CVTF2/blob/main/Amount_of_tickets_for_support_groups_(predictive_analytics).ipynb\" target=\"_parent\"><img src=\"https://colab.research.google.com/assets/colab-badge.svg\" alt=\"Open In Colab\"/></a>"
      ]
    },
    {
      "cell_type": "markdown",
      "metadata": {
        "id": "1S07RaDvMWZJ"
      },
      "source": [
        "# Import packages"
      ]
    },
    {
      "cell_type": "code",
      "execution_count": null,
      "metadata": {
        "id": "ifuWWwC2yLcq",
        "colab": {
          "base_uri": "https://localhost:8080/"
        },
        "outputId": "2f44e314-502a-4bca-ffad-be719bfa4c64"
      },
      "outputs": [
        {
          "output_type": "stream",
          "name": "stderr",
          "text": [
            "/usr/local/lib/python3.7/dist-packages/statsmodels/tools/_testing.py:19: FutureWarning: pandas.util.testing is deprecated. Use the functions in the public API at pandas.testing instead.\n",
            "  import pandas.util.testing as tm\n"
          ]
        }
      ],
      "source": [
        "import numpy as np\n",
        "import pandas as pd\n",
        "import pandas.testing as tm\n",
        "import matplotlib.pyplot as plt\n",
        "import matplotlib\n",
        "import re\n",
        "import seaborn as sns\n",
        "sns.set()\n",
        "\n",
        "from sklearn.metrics import r2_score, median_absolute_error, mean_absolute_error, mean_absolute_percentage_error\n",
        "from sklearn.metrics import median_absolute_error, mean_squared_error, mean_squared_log_error, confusion_matrix, plot_confusion_matrix\n",
        "from sklearn import preprocessing\n",
        "from sklearn.linear_model import LogisticRegression\n",
        "from sklearn.model_selection import train_test_split\n",
        "from imblearn.over_sampling import SMOTE\n",
        "from sklearn.tree import DecisionTreeClassifier\n",
        "from sklearn.svm import SVC\n",
        "from sklearn.neighbors import KNeighborsClassifier\n",
        "from sklearn.naive_bayes import GaussianNB, MultinomialNB\n",
        "from sklearn.feature_extraction.text import TfidfVectorizer, TfidfTransformer, CountVectorizer\n",
        "\n",
        "from scipy.optimize import minimize\n",
        "from scipy import stats\n",
        "import statsmodels.tsa.api as smt\n",
        "import statsmodels.api as sm\n",
        "from statsmodels.tsa.stattools import adfuller\n",
        "from fbprophet import Prophet\n",
        "\n",
        "from tqdm import tqdm_notebook\n",
        "\n",
        "from itertools import product\n",
        "\n",
        "from datetime import date\n",
        "from datetime import datetime\n",
        "from datetime import timedelta\n",
        "from dateutil.relativedelta import relativedelta\n",
        "\n",
        "import logging\n",
        "import random\n",
        "import warnings\n",
        "import time"
      ]
    },
    {
      "cell_type": "markdown",
      "metadata": {
        "id": "QWbKuTPxjbd3"
      },
      "source": [
        "#Import Data"
      ]
    },
    {
      "cell_type": "code",
      "execution_count": null,
      "metadata": {
        "colab": {
          "base_uri": "https://localhost:8080/"
        },
        "id": "40q_W1ax8A87",
        "outputId": "36f61b84-6f72-413d-f43d-ba262abd8b84"
      },
      "outputs": [
        {
          "output_type": "execute_result",
          "data": {
            "text/plain": [
              "   IncidentNumber ServiceType Servicestypes  \\\n",
              "0         1234567   Incidents      Incident   \n",
              "1         1234569   Incidents      RequestS   \n",
              "2         1234571   Incidents      Incident   \n",
              "3         1234573   Incidents      Incident   \n",
              "4         1234575   Incidents      Incident   \n",
              "5         1234577   Incidents      RequestS   \n",
              "6         1234579   Incidents      RequestS   \n",
              "7         1234581   Incidents      RequestS   \n",
              "8         1234583   Incidents      RequestS   \n",
              "9         1234585   Incidents      Incident   \n",
              "\n",
              "                                   TicketDescription     Created Date  \\\n",
              "0             investigate authorization issue in PRD    3/5/2019 3:00   \n",
              "1              Not able to view anything on Cransoft   8/19/2019 3:00   \n",
              "2  Unable to login to one of the sharepoint site:...    6/7/2019 3:00   \n",
              "3                Unable to activate Tableau software   4/29/2019 3:00   \n",
              "4  eSubMIT-IVAL: Getting Validation Error 1153 (M...   9/17/2019 3:00   \n",
              "5  Sharepoint - user is unable to edit files but ...   5/27/2019 3:00   \n",
              "6  CLINSIGHT: one issue of site 0004 about patien...   6/16/2019 3:00   \n",
              "7  Junk Email-please block junk email sent from z...  11/21/2019 3:00   \n",
              "8  18312938 sap_rpm_yy_zffiod02_ctmsintfndpoc_zfp...    5/3/2019 3:00   \n",
              "9  Trackwise &gt;.Unable to access&gt;&gt;just spins  11/11/2019 3:00   \n",
              "\n",
              "          Closed Data    LastModifiedTime Priority  Impact SupportGroupName  \\\n",
              "0 2020-01-01 00:46:51 2019-04-05 11:59:59       P1       4            MMEAI   \n",
              "1 2020-01-03 05:09:00 2019-09-19 11:59:59       P1       4            MMEAI   \n",
              "2 2020-01-03 05:06:19 2020-03-06 10:59:59       P1       2           MME123   \n",
              "3 2020-01-01 01:23:16 2019-04-30 11:59:59       P1       3        parent123   \n",
              "4 2020-01-02 12:55:40 2019-10-18 11:59:59       P1       5            MMEAI   \n",
              "5 2020-01-02 07:14:23 2019-05-28 11:59:59       P1       3        parent123   \n",
              "6 2020-01-01 03:39:10 2019-07-17 11:59:59       P1       1            MMEAI   \n",
              "7 2020-01-01 01:46:51 2020-08-20 11:59:59       P1       2           MME123   \n",
              "8 2020-01-01 09:23:56 2019-05-04 11:59:59       P1       3        parent123   \n",
              "9 2020-01-01 10:37:59 2020-08-10 11:59:59       P1       1           MME123   \n",
              "\n",
              "                              Company  \\\n",
              "0  ACCENTURE - INTERNAL ORGANIZATIONS   \n",
              "1  ACCENTURE - INTERNAL ORGANIZATIONS   \n",
              "2  ACCENTURE - INTERNAL ORGANIZATIONS   \n",
              "3  ACCENTURE - INTERNAL ORGANIZATIONS   \n",
              "4  ACCENTURE - INTERNAL ORGANIZATIONS   \n",
              "5  ACCENTURE - INTERNAL ORGANIZATIONS   \n",
              "6  ACCENTURE - INTERNAL ORGANIZATIONS   \n",
              "7  ACCENTURE - INTERNAL ORGANIZATIONS   \n",
              "8  ACCENTURE - INTERNAL ORGANIZATIONS   \n",
              "9  ACCENTURE - INTERNAL ORGANIZATIONS   \n",
              "\n",
              "                               ResolutionDescription  estimated hours   \\\n",
              "0  Tableau: ES Contact Center Metrics dashboard u...                 3   \n",
              "1  345407 Beeline PR_US PPD_August 2016 - Data do...                20   \n",
              "2  Can you please check why the accounts for Iryn...                13   \n",
              "3                                     Access to PDHQ                10   \n",
              "4            Product returned from Puerto Rico Issue                20   \n",
              "5  In Benchtop Computer Request workflow, additio...                12   \n",
              "6  User was unable to submit report via ClinSight...                10   \n",
              "7                  Folders are empty in CARA - PRISM                15   \n",
              "8  eDM/OC: Frozen behavior. unable to change stud...                20   \n",
              "9  ENARRATOR: Error message Web service request i...                20   \n",
              "\n",
              "              Reported      Date  \n",
              "0  2019-05-03 00:00:00  03:00:00  \n",
              "1            8/19/2019  03:00:00  \n",
              "2  2019-07-06 00:00:00  03:00:00  \n",
              "3            4/29/2019  03:00:00  \n",
              "4            9/17/2019  03:00:00  \n",
              "5            5/27/2019  03:00:00  \n",
              "6            6/16/2019  03:00:00  \n",
              "7           11/21/2019  03:00:00  \n",
              "8  2019-03-05 00:00:00  03:00:00  \n",
              "9  2019-11-11 00:00:00  03:00:00  "
            ],
            "text/html": [
              "\n",
              "  <div id=\"df-8a7b379a-6108-4192-8282-efc790bd29f9\">\n",
              "    <div class=\"colab-df-container\">\n",
              "      <div>\n",
              "<style scoped>\n",
              "    .dataframe tbody tr th:only-of-type {\n",
              "        vertical-align: middle;\n",
              "    }\n",
              "\n",
              "    .dataframe tbody tr th {\n",
              "        vertical-align: top;\n",
              "    }\n",
              "\n",
              "    .dataframe thead th {\n",
              "        text-align: right;\n",
              "    }\n",
              "</style>\n",
              "<table border=\"1\" class=\"dataframe\">\n",
              "  <thead>\n",
              "    <tr style=\"text-align: right;\">\n",
              "      <th></th>\n",
              "      <th>IncidentNumber</th>\n",
              "      <th>ServiceType</th>\n",
              "      <th>Servicestypes</th>\n",
              "      <th>TicketDescription</th>\n",
              "      <th>Created Date</th>\n",
              "      <th>Closed Data</th>\n",
              "      <th>LastModifiedTime</th>\n",
              "      <th>Priority</th>\n",
              "      <th>Impact</th>\n",
              "      <th>SupportGroupName</th>\n",
              "      <th>Company</th>\n",
              "      <th>ResolutionDescription</th>\n",
              "      <th>estimated hours</th>\n",
              "      <th>Reported</th>\n",
              "      <th>Date</th>\n",
              "    </tr>\n",
              "  </thead>\n",
              "  <tbody>\n",
              "    <tr>\n",
              "      <th>0</th>\n",
              "      <td>1234567</td>\n",
              "      <td>Incidents</td>\n",
              "      <td>Incident</td>\n",
              "      <td>investigate authorization issue in PRD</td>\n",
              "      <td>3/5/2019 3:00</td>\n",
              "      <td>2020-01-01 00:46:51</td>\n",
              "      <td>2019-04-05 11:59:59</td>\n",
              "      <td>P1</td>\n",
              "      <td>4</td>\n",
              "      <td>MMEAI</td>\n",
              "      <td>ACCENTURE - INTERNAL ORGANIZATIONS</td>\n",
              "      <td>Tableau: ES Contact Center Metrics dashboard u...</td>\n",
              "      <td>3</td>\n",
              "      <td>2019-05-03 00:00:00</td>\n",
              "      <td>03:00:00</td>\n",
              "    </tr>\n",
              "    <tr>\n",
              "      <th>1</th>\n",
              "      <td>1234569</td>\n",
              "      <td>Incidents</td>\n",
              "      <td>RequestS</td>\n",
              "      <td>Not able to view anything on Cransoft</td>\n",
              "      <td>8/19/2019 3:00</td>\n",
              "      <td>2020-01-03 05:09:00</td>\n",
              "      <td>2019-09-19 11:59:59</td>\n",
              "      <td>P1</td>\n",
              "      <td>4</td>\n",
              "      <td>MMEAI</td>\n",
              "      <td>ACCENTURE - INTERNAL ORGANIZATIONS</td>\n",
              "      <td>345407 Beeline PR_US PPD_August 2016 - Data do...</td>\n",
              "      <td>20</td>\n",
              "      <td>8/19/2019</td>\n",
              "      <td>03:00:00</td>\n",
              "    </tr>\n",
              "    <tr>\n",
              "      <th>2</th>\n",
              "      <td>1234571</td>\n",
              "      <td>Incidents</td>\n",
              "      <td>Incident</td>\n",
              "      <td>Unable to login to one of the sharepoint site:...</td>\n",
              "      <td>6/7/2019 3:00</td>\n",
              "      <td>2020-01-03 05:06:19</td>\n",
              "      <td>2020-03-06 10:59:59</td>\n",
              "      <td>P1</td>\n",
              "      <td>2</td>\n",
              "      <td>MME123</td>\n",
              "      <td>ACCENTURE - INTERNAL ORGANIZATIONS</td>\n",
              "      <td>Can you please check why the accounts for Iryn...</td>\n",
              "      <td>13</td>\n",
              "      <td>2019-07-06 00:00:00</td>\n",
              "      <td>03:00:00</td>\n",
              "    </tr>\n",
              "    <tr>\n",
              "      <th>3</th>\n",
              "      <td>1234573</td>\n",
              "      <td>Incidents</td>\n",
              "      <td>Incident</td>\n",
              "      <td>Unable to activate Tableau software</td>\n",
              "      <td>4/29/2019 3:00</td>\n",
              "      <td>2020-01-01 01:23:16</td>\n",
              "      <td>2019-04-30 11:59:59</td>\n",
              "      <td>P1</td>\n",
              "      <td>3</td>\n",
              "      <td>parent123</td>\n",
              "      <td>ACCENTURE - INTERNAL ORGANIZATIONS</td>\n",
              "      <td>Access to PDHQ</td>\n",
              "      <td>10</td>\n",
              "      <td>4/29/2019</td>\n",
              "      <td>03:00:00</td>\n",
              "    </tr>\n",
              "    <tr>\n",
              "      <th>4</th>\n",
              "      <td>1234575</td>\n",
              "      <td>Incidents</td>\n",
              "      <td>Incident</td>\n",
              "      <td>eSubMIT-IVAL: Getting Validation Error 1153 (M...</td>\n",
              "      <td>9/17/2019 3:00</td>\n",
              "      <td>2020-01-02 12:55:40</td>\n",
              "      <td>2019-10-18 11:59:59</td>\n",
              "      <td>P1</td>\n",
              "      <td>5</td>\n",
              "      <td>MMEAI</td>\n",
              "      <td>ACCENTURE - INTERNAL ORGANIZATIONS</td>\n",
              "      <td>Product returned from Puerto Rico Issue</td>\n",
              "      <td>20</td>\n",
              "      <td>9/17/2019</td>\n",
              "      <td>03:00:00</td>\n",
              "    </tr>\n",
              "    <tr>\n",
              "      <th>5</th>\n",
              "      <td>1234577</td>\n",
              "      <td>Incidents</td>\n",
              "      <td>RequestS</td>\n",
              "      <td>Sharepoint - user is unable to edit files but ...</td>\n",
              "      <td>5/27/2019 3:00</td>\n",
              "      <td>2020-01-02 07:14:23</td>\n",
              "      <td>2019-05-28 11:59:59</td>\n",
              "      <td>P1</td>\n",
              "      <td>3</td>\n",
              "      <td>parent123</td>\n",
              "      <td>ACCENTURE - INTERNAL ORGANIZATIONS</td>\n",
              "      <td>In Benchtop Computer Request workflow, additio...</td>\n",
              "      <td>12</td>\n",
              "      <td>5/27/2019</td>\n",
              "      <td>03:00:00</td>\n",
              "    </tr>\n",
              "    <tr>\n",
              "      <th>6</th>\n",
              "      <td>1234579</td>\n",
              "      <td>Incidents</td>\n",
              "      <td>RequestS</td>\n",
              "      <td>CLINSIGHT: one issue of site 0004 about patien...</td>\n",
              "      <td>6/16/2019 3:00</td>\n",
              "      <td>2020-01-01 03:39:10</td>\n",
              "      <td>2019-07-17 11:59:59</td>\n",
              "      <td>P1</td>\n",
              "      <td>1</td>\n",
              "      <td>MMEAI</td>\n",
              "      <td>ACCENTURE - INTERNAL ORGANIZATIONS</td>\n",
              "      <td>User was unable to submit report via ClinSight...</td>\n",
              "      <td>10</td>\n",
              "      <td>6/16/2019</td>\n",
              "      <td>03:00:00</td>\n",
              "    </tr>\n",
              "    <tr>\n",
              "      <th>7</th>\n",
              "      <td>1234581</td>\n",
              "      <td>Incidents</td>\n",
              "      <td>RequestS</td>\n",
              "      <td>Junk Email-please block junk email sent from z...</td>\n",
              "      <td>11/21/2019 3:00</td>\n",
              "      <td>2020-01-01 01:46:51</td>\n",
              "      <td>2020-08-20 11:59:59</td>\n",
              "      <td>P1</td>\n",
              "      <td>2</td>\n",
              "      <td>MME123</td>\n",
              "      <td>ACCENTURE - INTERNAL ORGANIZATIONS</td>\n",
              "      <td>Folders are empty in CARA - PRISM</td>\n",
              "      <td>15</td>\n",
              "      <td>11/21/2019</td>\n",
              "      <td>03:00:00</td>\n",
              "    </tr>\n",
              "    <tr>\n",
              "      <th>8</th>\n",
              "      <td>1234583</td>\n",
              "      <td>Incidents</td>\n",
              "      <td>RequestS</td>\n",
              "      <td>18312938 sap_rpm_yy_zffiod02_ctmsintfndpoc_zfp...</td>\n",
              "      <td>5/3/2019 3:00</td>\n",
              "      <td>2020-01-01 09:23:56</td>\n",
              "      <td>2019-05-04 11:59:59</td>\n",
              "      <td>P1</td>\n",
              "      <td>3</td>\n",
              "      <td>parent123</td>\n",
              "      <td>ACCENTURE - INTERNAL ORGANIZATIONS</td>\n",
              "      <td>eDM/OC: Frozen behavior. unable to change stud...</td>\n",
              "      <td>20</td>\n",
              "      <td>2019-03-05 00:00:00</td>\n",
              "      <td>03:00:00</td>\n",
              "    </tr>\n",
              "    <tr>\n",
              "      <th>9</th>\n",
              "      <td>1234585</td>\n",
              "      <td>Incidents</td>\n",
              "      <td>Incident</td>\n",
              "      <td>Trackwise &amp;gt;.Unable to access&amp;gt;&amp;gt;just spins</td>\n",
              "      <td>11/11/2019 3:00</td>\n",
              "      <td>2020-01-01 10:37:59</td>\n",
              "      <td>2020-08-10 11:59:59</td>\n",
              "      <td>P1</td>\n",
              "      <td>1</td>\n",
              "      <td>MME123</td>\n",
              "      <td>ACCENTURE - INTERNAL ORGANIZATIONS</td>\n",
              "      <td>ENARRATOR: Error message Web service request i...</td>\n",
              "      <td>20</td>\n",
              "      <td>2019-11-11 00:00:00</td>\n",
              "      <td>03:00:00</td>\n",
              "    </tr>\n",
              "  </tbody>\n",
              "</table>\n",
              "</div>\n",
              "      <button class=\"colab-df-convert\" onclick=\"convertToInteractive('df-8a7b379a-6108-4192-8282-efc790bd29f9')\"\n",
              "              title=\"Convert this dataframe to an interactive table.\"\n",
              "              style=\"display:none;\">\n",
              "        \n",
              "  <svg xmlns=\"http://www.w3.org/2000/svg\" height=\"24px\"viewBox=\"0 0 24 24\"\n",
              "       width=\"24px\">\n",
              "    <path d=\"M0 0h24v24H0V0z\" fill=\"none\"/>\n",
              "    <path d=\"M18.56 5.44l.94 2.06.94-2.06 2.06-.94-2.06-.94-.94-2.06-.94 2.06-2.06.94zm-11 1L8.5 8.5l.94-2.06 2.06-.94-2.06-.94L8.5 2.5l-.94 2.06-2.06.94zm10 10l.94 2.06.94-2.06 2.06-.94-2.06-.94-.94-2.06-.94 2.06-2.06.94z\"/><path d=\"M17.41 7.96l-1.37-1.37c-.4-.4-.92-.59-1.43-.59-.52 0-1.04.2-1.43.59L10.3 9.45l-7.72 7.72c-.78.78-.78 2.05 0 2.83L4 21.41c.39.39.9.59 1.41.59.51 0 1.02-.2 1.41-.59l7.78-7.78 2.81-2.81c.8-.78.8-2.07 0-2.86zM5.41 20L4 18.59l7.72-7.72 1.47 1.35L5.41 20z\"/>\n",
              "  </svg>\n",
              "      </button>\n",
              "      \n",
              "  <style>\n",
              "    .colab-df-container {\n",
              "      display:flex;\n",
              "      flex-wrap:wrap;\n",
              "      gap: 12px;\n",
              "    }\n",
              "\n",
              "    .colab-df-convert {\n",
              "      background-color: #E8F0FE;\n",
              "      border: none;\n",
              "      border-radius: 50%;\n",
              "      cursor: pointer;\n",
              "      display: none;\n",
              "      fill: #1967D2;\n",
              "      height: 32px;\n",
              "      padding: 0 0 0 0;\n",
              "      width: 32px;\n",
              "    }\n",
              "\n",
              "    .colab-df-convert:hover {\n",
              "      background-color: #E2EBFA;\n",
              "      box-shadow: 0px 1px 2px rgba(60, 64, 67, 0.3), 0px 1px 3px 1px rgba(60, 64, 67, 0.15);\n",
              "      fill: #174EA6;\n",
              "    }\n",
              "\n",
              "    [theme=dark] .colab-df-convert {\n",
              "      background-color: #3B4455;\n",
              "      fill: #D2E3FC;\n",
              "    }\n",
              "\n",
              "    [theme=dark] .colab-df-convert:hover {\n",
              "      background-color: #434B5C;\n",
              "      box-shadow: 0px 1px 3px 1px rgba(0, 0, 0, 0.15);\n",
              "      filter: drop-shadow(0px 1px 2px rgba(0, 0, 0, 0.3));\n",
              "      fill: #FFFFFF;\n",
              "    }\n",
              "  </style>\n",
              "\n",
              "      <script>\n",
              "        const buttonEl =\n",
              "          document.querySelector('#df-8a7b379a-6108-4192-8282-efc790bd29f9 button.colab-df-convert');\n",
              "        buttonEl.style.display =\n",
              "          google.colab.kernel.accessAllowed ? 'block' : 'none';\n",
              "\n",
              "        async function convertToInteractive(key) {\n",
              "          const element = document.querySelector('#df-8a7b379a-6108-4192-8282-efc790bd29f9');\n",
              "          const dataTable =\n",
              "            await google.colab.kernel.invokeFunction('convertToInteractive',\n",
              "                                                     [key], {});\n",
              "          if (!dataTable) return;\n",
              "\n",
              "          const docLinkHtml = 'Like what you see? Visit the ' +\n",
              "            '<a target=\"_blank\" href=https://colab.research.google.com/notebooks/data_table.ipynb>data table notebook</a>'\n",
              "            + ' to learn more about interactive tables.';\n",
              "          element.innerHTML = '';\n",
              "          dataTable['output_type'] = 'display_data';\n",
              "          await google.colab.output.renderOutput(dataTable, element);\n",
              "          const docLink = document.createElement('div');\n",
              "          docLink.innerHTML = docLinkHtml;\n",
              "          element.appendChild(docLink);\n",
              "        }\n",
              "      </script>\n",
              "    </div>\n",
              "  </div>\n",
              "  "
            ]
          },
          "metadata": {},
          "execution_count": 2
        }
      ],
      "source": [
        "warnings.filterwarnings('ignore')\n",
        "%matplotlib inline\n",
        "\n",
        "DATAPATH = '/content/incident_ticket data goed.xlsx'\n",
        "data = pd.read_excel(DATAPATH)\n",
        "\n",
        "data.head(10)"
      ]
    },
    {
      "cell_type": "markdown",
      "metadata": {
        "id": "wlS-aToPQAQ9"
      },
      "source": [
        "## Mount google drive"
      ]
    },
    {
      "cell_type": "code",
      "execution_count": null,
      "metadata": {
        "id": "80D00k3Z1SDE"
      },
      "outputs": [],
      "source": [
        "# from google.colab import drive\n",
        "# drive.mount('/content/drive')"
      ]
    },
    {
      "cell_type": "code",
      "execution_count": null,
      "metadata": {
        "id": "Yf23-eapnPGg"
      },
      "outputs": [],
      "source": [
        "#data = data[data.TICKER != 'Incident']\n",
        "#data = data[data.TYPE != 'SR']\n",
        "# this can be used when we have different ticket type of data\n"
      ]
    },
    {
      "cell_type": "markdown",
      "metadata": {
        "id": "-0UqMN_mjnI3"
      },
      "source": [
        "# Data Preparation / Pre- Processing\n",
        "\n"
      ]
    },
    {
      "cell_type": "markdown",
      "metadata": {
        "id": "gCX3NdsrFpmJ"
      },
      "source": [
        "### Column selection"
      ]
    },
    {
      "cell_type": "code",
      "execution_count": null,
      "metadata": {
        "id": "KWPdpfN9o88Z"
      },
      "outputs": [],
      "source": [
        "# Extract only relevant columns\n",
        "def get_relevant_data(df, service_type_, support_group_name_):\n",
        "  data_servicestype = df[df['Servicestypes'] == service_type_]\n",
        "  data_servicestype = data_servicestype[data_servicestype['SupportGroupName'] == support_group_name_]\n",
        "  drop_cols = ['ServiceType', 'TicketDescription', 'Company','ResolutionDescription', 'estimated hours ', 'Reported', 'Date', 'Closed Data','LastModifiedTime', 'Priority', 'Impact']\n",
        "  data_columns_chosen= data_servicestype.drop(drop_cols, axis=1, inplace=False)\n",
        "\n",
        "  # Change created date to datetime format and only consider the date (removing time)\n",
        "  data_columns_chosen['Created Date'] = pd.to_datetime(data_columns_chosen['Created Date'])\n",
        "  data_columns_chosen['Created Date'] = data_columns_chosen['Created Date'].dt.date\n",
        "\n",
        "  return data_columns_chosen"
      ]
    },
    {
      "cell_type": "markdown",
      "metadata": {
        "id": "XWJwDHF5CTDf"
      },
      "source": [
        "### Artificial data ingestion"
      ]
    },
    {
      "cell_type": "code",
      "execution_count": null,
      "metadata": {
        "id": "hKGet29e_7Iy"
      },
      "outputs": [],
      "source": [
        "def add_artificial_data(original_df, years,rand_state):\n",
        "  # Copy df and add x years to the created date (existing dates are duplicated for x years )\n",
        "  artificial_data = original_df.copy()\n",
        "  artificial_data['Created Date'] = artificial_data['Created Date'].map(lambda x: x.replace(year = x.year + years))\n",
        "\n",
        "  # random sampling as added variance to the artificial data\n",
        "  variance = artificial_data.sample(frac=0.50, random_state=rand_state) #random_state=1\n",
        "  artificial_data = pd.concat([artificial_data, variance])\n",
        "\n",
        "  return pd.concat([original_df, artificial_data])"
      ]
    },
    {
      "cell_type": "markdown",
      "metadata": {
        "id": "CQzvHu86FizO"
      },
      "source": [
        "### Aggregate to get counts"
      ]
    },
    {
      "cell_type": "code",
      "execution_count": null,
      "metadata": {
        "id": "PnfLKfrdS8bt"
      },
      "outputs": [],
      "source": [
        "def aggregate_counts(df):\n",
        "  # Group by dates\n",
        "  data_count = df.groupby(['Created Date']).count()\n",
        "  data_count.rename(columns = {'IncidentNumber':'TicketCount'}, inplace = True)\n",
        "\n",
        "  # Change index to datetime and sort on date\n",
        "  data_count.index = pd.to_datetime(data_count.index)\n",
        "  data_count = data_count.sort_index()\n",
        "  #data_count = data_count[data_count.index > datetime(2013,1,1)]\n",
        "\n",
        "  # Fill missing days with 0 ticket counts\n",
        "  idx_fill = pd.date_range(min(data_count.index), max(data_count.index))\n",
        "  data_count = data_count.reindex(idx_fill, fill_value=0) # Grouped by day\n",
        "\n",
        "  # Group ticket count by month\n",
        "  data_month = data_count.groupby(pd.Grouper(freq='M')).sum()\n",
        "  return data_month"
      ]
    },
    {
      "cell_type": "code",
      "source": [
        "def plot_inflow(data_month, title_):\n",
        "  fig, ax = plt.subplots(figsize=(10, 4))\n",
        "\n",
        "  plt.plot(data_month.TicketCount)\n",
        "  ax.set_xticks(data_month.index)\n",
        "  plt.title(title_ + ' - Inflow tickets - Month')\n",
        "  plt.ylabel('Ticket Count')\n",
        "  plt.xlabel('Date')\n",
        "  plt.xticks(rotation=90)"
      ],
      "metadata": {
        "id": "ZiYKciB9LOHL"
      },
      "execution_count": null,
      "outputs": []
    },
    {
      "cell_type": "markdown",
      "metadata": {
        "id": "mX3BqfStNjjg"
      },
      "source": [
        "# Modelling\n",
        "\n",
        "To model a time-series, the data must be stationary, i.e., constant mean and variance. \n",
        "\n",
        "Here the Dickey-Fuller test is applied to see if the stationary."
      ]
    },
    {
      "cell_type": "markdown",
      "metadata": {
        "id": "hDarXDL2OvYW"
      },
      "source": [
        "## Stationary\n",
        "\n",
        "The Dickey-Fuller test shows that the p value is larger than zero. This means that the data is NOT stationary.\n",
        "\n",
        "Therefore, to get rid of the high autocorrelation and to make the process stationary, let’s take the difference. We simply subtract the time series from itself with a lag of x month, and we get:"
      ]
    },
    {
      "cell_type": "code",
      "execution_count": null,
      "metadata": {
        "id": "9iiYFSLTxkSp"
      },
      "outputs": [],
      "source": [
        "def tsplot(y, lags=None, figsize=(12, 7), syle='bmh'):\n",
        "    \n",
        "    if not isinstance(y, pd.Series):\n",
        "        y = pd.Series(y)\n",
        "        \n",
        "    with plt.style.context(style='bmh'):\n",
        "        fig = plt.figure(figsize=figsize)\n",
        "        layout = (2,2)\n",
        "        ts_ax = plt.subplot2grid(layout, (0,0), colspan=2)\n",
        "        acf_ax = plt.subplot2grid(layout, (1,0))\n",
        "        pacf_ax = plt.subplot2grid(layout, (1,1))\n",
        "        \n",
        "        y.plot(ax=ts_ax)\n",
        "        p_value = sm.tsa.stattools.adfuller(y)[1]\n",
        "        ts_ax.set_title('Time Series Analysis Plots\\n Dickey-Fuller: p={0:.5f}'.format(p_value))\n",
        "        smt.graphics.plot_acf(y, lags=lags, ax=acf_ax)\n",
        "        smt.graphics.plot_pacf(y, lags=lags, ax=pacf_ax)\n",
        "        plt.tight_layout()"
      ]
    },
    {
      "cell_type": "code",
      "execution_count": null,
      "metadata": {
        "id": "ckkXY09iNGkT"
      },
      "outputs": [],
      "source": [
        "# Function to find how many differences are needed to get stationarity\n",
        "def find_diff_stationary(series):\n",
        "  p_min = 10\n",
        "  lag = 0\n",
        "  for i in range(1,30):\n",
        "    data_diff = series - series.shift(i)\n",
        "    result = adfuller(data_diff[i:])\n",
        "    if(result[1] < p_min):\n",
        "      p_min = result[1]\n",
        "      lag = i\n",
        "      print('p value:',p_min,',at diff of:', i)\n",
        "    if p_min < 0.0001:\n",
        "       return lag, p_min\n",
        "  return lag, p_min"
      ]
    },
    {
      "cell_type": "markdown",
      "metadata": {
        "id": "cFetm4zNKEJM"
      },
      "source": [
        "A stationary process is found after subtracting the time series from itself with a lag of 1 months.\n",
        "\n",
        "Use the autocorrelation (ACF) and the partial autocorrelation (PACF) to determine the order of auto regression (AR) and the order of moving average (MA).\n",
        "\n",
        "Rule of thumb for order determination through ACF and PACF.\n",
        "The largest significant lag equals the order.\n",
        "- Find the MA order using the ACF.\n",
        " - 1\n",
        "- Find the AR order using the PACF.\n",
        " - 1\n",
        "\n",
        "\n",
        " Instead, we will optimize the SARIMA algorithm through trial-and-error."
      ]
    },
    {
      "cell_type": "markdown",
      "metadata": {
        "id": "IPT8scRBRI3J"
      },
      "source": [
        "## Seasonal autoregressive integraded moving average model (SARIMA)"
      ]
    },
    {
      "cell_type": "code",
      "execution_count": null,
      "metadata": {
        "id": "Cmh5fjPLOk9k"
      },
      "outputs": [],
      "source": [
        "# Train many SARIMA models to find the best set of parameters\n",
        "def optimize_SARIMA(parameters_list, d, D, s):\n",
        "    \"\"\"\n",
        "        Return dataframe with parameters and corresponding AIC\n",
        "        \n",
        "        parameters_list - list with (p, q, P, Q) tuples\n",
        "        d - integration order\n",
        "        D - seasonal integration order\n",
        "        s - length of season\n",
        "    \"\"\"\n",
        "    \n",
        "    results = []\n",
        "    best_aic = float('inf')\n",
        "    \n",
        "    for param in tqdm_notebook(parameters_list):\n",
        "        try: model = sm.tsa.statespace.SARIMAX(train_data, order=(param[0], d, param[1]),\n",
        "                                               seasonal_order=(param[2], D, param[3], s)).fit(disp=-1)\n",
        "        except:\n",
        "            continue\n",
        "            \n",
        "        aic = model.aic\n",
        "        \n",
        "        #Save best model, AIC and parameters\n",
        "        if aic < best_aic:\n",
        "            best_model = model\n",
        "            best_aic = aic\n",
        "            best_param = param\n",
        "        results.append([param, model.aic])\n",
        "        \n",
        "    result_table = pd.DataFrame(results)\n",
        "    result_table.columns = ['parameters', 'aic']\n",
        "    #Sort in ascending order, lower AIC is better\n",
        "    result_table = result_table.sort_values(by='aic', ascending=True).reset_index(drop=True)\n",
        "    \n",
        "    return result_table"
      ]
    },
    {
      "cell_type": "markdown",
      "source": [
        "### Testing\n"
      ],
      "metadata": {
        "id": "IFUnl74hCl-f"
      }
    },
    {
      "cell_type": "code",
      "execution_count": null,
      "metadata": {
        "id": "SV7iFF-2l67E"
      },
      "outputs": [],
      "source": [
        "def residual_plot(residuals):\n",
        "  plt.figure(figsize=(10,4))\n",
        "  plt.plot(residuals)\n",
        "  plt.axhline(0, linestyle='--', color='k')\n",
        "  plt.title('Residuals from SARIMA Model', fontsize=20)\n",
        "  plt.ylabel('Error', fontsize=16)\n",
        "  plt.xticks(rotation=90)"
      ]
    },
    {
      "cell_type": "code",
      "execution_count": null,
      "metadata": {
        "id": "FJXRUruwl87t"
      },
      "outputs": [],
      "source": [
        "def test_plot(data_month, predictions, title_, SMAPE):\n",
        "  plt.figure(figsize=(10,4))\n",
        "\n",
        "  plt.plot(data_month.TicketCount)\n",
        "  plt.plot(predictions)\n",
        "\n",
        "  plt.legend(('Data', 'Predictions'), fontsize=16)\n",
        "  plt.title(title_+' - Ticket count - SMAPE: ' + str(SMAPE), fontsize=20)\n",
        "  plt.ylabel('Ticket count', fontsize=16)"
      ]
    },
    {
      "cell_type": "markdown",
      "metadata": {
        "id": "pfqa2nOVpDOe"
      },
      "source": [
        "### Error measures - SARIMA"
      ]
    },
    {
      "cell_type": "code",
      "execution_count": null,
      "metadata": {
        "id": "7_D7hZBTnZHR"
      },
      "outputs": [],
      "source": [
        "# Define the function to return the SMAPE value\n",
        "def calculate_smape(actual, predicted) -> float:\n",
        "    actual = np.array(actual)\n",
        "    pedicted = np.array(predicted)\n",
        "    return round(\n",
        "        np.mean(\n",
        "            np.abs(predicted - actual) / \n",
        "            ((np.abs(predicted) + np.abs(actual))/2)\n",
        "        )*100, 2\n",
        "    )"
      ]
    },
    {
      "cell_type": "code",
      "execution_count": null,
      "metadata": {
        "id": "FppmOdgSoIhq"
      },
      "outputs": [],
      "source": [
        "def error_measures(test_data, predictions, residuals):\n",
        "  SMAPE = calculate_smape(test_data, predictions)\n",
        "  MAE = round(np.mean(abs(residuals-test_data)),4)\n",
        "  RMSE = np.sqrt(np.mean(residuals**2))\n",
        "  print('Symmetric Mean Absolute Percentage Error:', SMAPE,'%') \n",
        "  print('Mean Absolute Error:', MAE)\n",
        "  print('Root Mean Squared Error:', RMSE)\n",
        "  return SMAPE, MAE, RMSE"
      ]
    },
    {
      "cell_type": "markdown",
      "metadata": {
        "id": "PsELaseA5ygw"
      },
      "source": [
        "## Forecasting"
      ]
    },
    {
      "cell_type": "code",
      "execution_count": null,
      "metadata": {
        "id": "LuwlI2jd5z9I"
      },
      "outputs": [],
      "source": [
        "def forecast_data(df, p, d, q, P, D, Q, s):\n",
        "  final_data_date = max(df.index)\n",
        "  forecast_dates = [final_data_date + timedelta(days=30*idx) for idx in range(3+1)]\n",
        "\n",
        "  forecast_predictions = data_month.TicketCount.copy()\n",
        "\n",
        "  start_time = time.time()\n",
        "  for train_end in forecast_dates:\n",
        "      train_data = forecast_predictions[:train_end-timedelta(days=30)]\n",
        "      model = sm.tsa.statespace.SARIMAX(train_data, order=(p, d, q), seasonal_order=(P, D, Q, s))\n",
        "      model_fit = model.fit()\n",
        "\n",
        "      pred = model_fit.forecast()\n",
        "      forecast_predictions[train_end] = int(pred.values)\n",
        "  end_time = time.time()\n",
        "  print('Forecasting time:',end_time-start_time,'s')\n",
        "\n",
        "  return forecast_predictions, forecast_dates"
      ]
    },
    {
      "cell_type": "code",
      "execution_count": null,
      "metadata": {
        "id": "PcHMiJ2z6yN7"
      },
      "outputs": [],
      "source": [
        "def plot_forecast(data_month, forecast_predictions,forecast_dates,title_):\n",
        "  plt.figure(figsize=(10,4))\n",
        "  plt.plot(data_month.TicketCount)\n",
        "  plt.plot(forecast_predictions[forecast_dates])\n",
        "\n",
        "  plt.legend(('Data', 'Predictions'), fontsize=16)\n",
        "  plt.title(title_+' - Ticket count', fontsize=20)\n",
        "  plt.ylabel('Ticket count', fontsize=16)"
      ]
    },
    {
      "cell_type": "markdown",
      "source": [
        "# Main\n"
      ],
      "metadata": {
        "id": "Y5G4jMuKfdo8"
      }
    },
    {
      "cell_type": "code",
      "source": [
        "main = False\n",
        "if main:\n",
        "  ## Data preparation\n",
        "  start_time = time.time()\n",
        "  results_dict = {}\n",
        "  sarima_optimized_dict = {}\n",
        "  pre_param = {'MMEAI':(0,1,2,0),\n",
        "  'MME123':(0,0,0,0),\n",
        "  'parent123':(0,3,1,0),\n",
        "  'InitSup':(0,1,2,0),\n",
        "  'DFCSup':(1,0,0,0),\n",
        "  'RTCSup':(1,0,2,0),\n",
        "  'MME5':(1,1,1,0),\n",
        "  'Assign102':(0,0,0,0),\n",
        "  'Assign21':(0,1,2,0),\n",
        "  'Assign27':(4,2,2,0)\n",
        "  }\n",
        "  use_pre_param = True # !!!!!!!! set to false to optimize\n",
        "\n",
        "  # Data selection\n",
        "  selected_service_type = 'Incident'\n",
        "  # selected_support_group_name = 'parent123'\n",
        "\n",
        "  for i in data.SupportGroupName.unique():\n",
        "    print('Forecasting support group:', i)\n",
        "    if ((data[data.SupportGroupName == i]).empty):\n",
        "      break;\n",
        "\n",
        "    # Column selection\n",
        "    data_columns_chosen = get_relevant_data(data, selected_service_type, i)\n",
        "\n",
        "    # Synthetic data ingestion\n",
        "    rand_state=1\n",
        "    data_columns_chosen = add_artificial_data(data_columns_chosen, 1, rand_state)\n",
        "    data_columns_chosen = add_artificial_data(data_columns_chosen, 2, rand_state)\n",
        "\n",
        "    # Aggregate to get counts\n",
        "    data_month = aggregate_counts(data_columns_chosen)\n",
        "    plot_inflow(data_month, i)\n",
        "\n",
        "    ## Modeling \n",
        "    # Find lag for stationarity\n",
        "    lag, p_min = find_diff_stationary(data_month.TicketCount)\n",
        "\n",
        "    # 3 months as test data\n",
        "    train_end = datetime(2022,9,30) #train_end = datetime(2019,10,1)\n",
        "    test_end = datetime(2022,12,31) #test_end = datetime(2019,12,31)\n",
        "    train_data = data_month.TicketCount[:train_end]\n",
        "    test_data = data_month.TicketCount[train_end + timedelta(days=31):test_end]\n",
        "\n",
        "    # Optimize SARIMA - Set initial values and some bounds\n",
        "    ps = range(0, 5)  # maximum lag\n",
        "    d = lag #1        # number of differences required to make the series stationary\n",
        "    qs = range(0, 5)  # biggest lag after which other lags are not significant\n",
        "    Ps = range(0, 5)  # seasonal maximum lag\n",
        "    D = lag #1        # seasonal number of differences required to make the series stationary\n",
        "    Qs = range(0, 5)  # seasonal biggest lag after which other lags are not significant\n",
        "    s = 12             # season's length in months\n",
        "\n",
        "    # Create a list with all possible combinations of parameters\n",
        "    parameters = product(ps, qs, Ps, Qs)\n",
        "    parameters_list = list(parameters)\n",
        "\n",
        "    if not use_pre_param:\n",
        "      # Optimize\n",
        "      result_table = optimize_SARIMA(parameters_list, d, D, s)\n",
        "\n",
        "      #Set parameters that give the lowest AIC (Akaike Information Criteria)\n",
        "      p, q, P, Q = result_table.parameters[0]\n",
        "    else:\n",
        "      p, q, P, Q = pre_param[i]\n",
        "\n",
        "    print('Optimal params:',p,q,P,Q)\n",
        "    sarima_optimized_dict[i] = (p, q, P, Q)\n",
        "    # p, q, P, Q = 2, 2, 2, 0\n",
        "\n",
        "    best_model = sm.tsa.statespace.SARIMAX(train_data, order=(p, d, q),\n",
        "                                          seasonal_order=(P, D, Q, s)).fit(disp=-1)\n",
        "\n",
        "    # TESTING - get the predictions and residuals\n",
        "    predictions = best_model.forecast(len(test_data))\n",
        "    predictions = pd.Series(predictions.values, index=test_data.index)\n",
        "    residuals = test_data - predictions\n",
        "    \n",
        "    SMAPE, MAE, RMSE = error_measures(test_data, predictions, residuals)\n",
        "    test_plot(data_month, predictions,i, SMAPE)\n",
        "\n",
        "    # FORECAST\n",
        "    forecast_predictions, forecast_dates = forecast_data(data_month, p, d, q, P, D, Q, s)\n",
        "    plot_forecast(data_month, forecast_predictions,forecast_dates,i)\n",
        "    results_dict[i] = forecast_predictions[forecast_dates]\n",
        "    print()\n",
        "\n",
        "  end_time = time.time()\n",
        "  print('Total time:',end_time-start_time,'s')"
      ],
      "metadata": {
        "id": "PoMeUEPFfb8s"
      },
      "execution_count": null,
      "outputs": []
    },
    {
      "cell_type": "markdown",
      "source": [
        "MME123 and Assign102 need further tweaking."
      ],
      "metadata": {
        "id": "gVDGmV7oTu_0"
      }
    },
    {
      "cell_type": "code",
      "source": [
        "if main:\n",
        "  df_all_predictions = pd.DataFrame(results_dict.values())\n",
        "  df_all_predictions.columns = ['current month prediction', 'next month prediction', '2nd month prediction', '3rd month prediction']\n",
        "  df_all_predictions.index = results_dict.keys()\n",
        "  df_all_predictions['subgroup'] = results_dict.keys()\n",
        "  df_all_predictions_ = df_all_predictions.drop(['MME123','Assign102'], inplace = False) # temporary left out until these are tweaked\n",
        "  df_all_predictions_"
      ],
      "metadata": {
        "id": "Y3kRqL0LNjZn"
      },
      "execution_count": null,
      "outputs": []
    },
    {
      "cell_type": "code",
      "source": [
        "if main:\n",
        "  fig, axes = plt.subplots(2, 2,figsize=(20,12))\n",
        "  to_plot_00 = \"current month prediction\"\n",
        "  sns.barplot(x=\"subgroup\", y=to_plot_00, data=df_all_predictions_, ax=axes[0,0])\n",
        "  axes[0,0].set_ylabel('Ticket count')\n",
        "  axes[0,0].set_title(to_plot_00)\n",
        "\n",
        "  to_plot_01 = \"next month prediction\"\n",
        "  sns.barplot(x=\"subgroup\", y=to_plot_01, data=df_all_predictions_, ax=axes[0,1])\n",
        "  axes[0,1].set_ylabel('Ticket count')\n",
        "  axes[0,1].set_title(to_plot_01)\n",
        "\n",
        "  to_plot_10 = \"2nd month prediction\"\n",
        "  sns.barplot(x=\"subgroup\", y=to_plot_10, data=df_all_predictions_, ax=axes[1,0])\n",
        "  axes[1,0].set_ylabel('Ticket count')\n",
        "  axes[1,0].set_title(to_plot_10)\n",
        "\n",
        "  to_plot_11 = \"3rd month prediction\"\n",
        "  sns.barplot(x=\"subgroup\", y=to_plot_11, data=df_all_predictions_, ax=axes[1,1])\n",
        "  axes[1,1].set_ylabel('Ticket count')\n",
        "  axes[1,1].set_title(to_plot_11)\n",
        "\n"
      ],
      "metadata": {
        "id": "XiLb7xG4URR-"
      },
      "execution_count": null,
      "outputs": []
    },
    {
      "cell_type": "markdown",
      "source": [
        "# Estimated hours modelling\n",
        "\n",
        "Multiclassification with desired target:\n",
        "- estimated hours.\n",
        "\n",
        "As input variables:\n",
        "- Servicestypes: categorical\n",
        "- Priority: numerical\n",
        "- Impact: numerical\n",
        "- SupportGroupname: categorical\n",
        "\n",
        "https://towardsdatascience.com/multiclass-classification-algorithm-from-scratch-with-a-project-in-python-step-by-step-guide-485a83c79992"
      ],
      "metadata": {
        "id": "MOaHKfZRYbtf"
      }
    },
    {
      "cell_type": "markdown",
      "source": [
        "## Data preparation\n"
      ],
      "metadata": {
        "id": "PaAKtBOOdRjf"
      }
    },
    {
      "cell_type": "code",
      "source": [
        "print(data.columns)\n",
        "print(data.shape)"
      ],
      "metadata": {
        "colab": {
          "base_uri": "https://localhost:8080/"
        },
        "id": "IqzEF5oOuSJ6",
        "outputId": "4135d20a-0c5f-4b8d-c140-73cfe8297c6a"
      },
      "execution_count": null,
      "outputs": [
        {
          "output_type": "stream",
          "name": "stdout",
          "text": [
            "Index(['IncidentNumber', 'ServiceType', 'Servicestypes', 'TicketDescription',\n",
            "       'Created Date', 'Closed Data', 'LastModifiedTime', 'Priority', 'Impact',\n",
            "       'SupportGroupName', 'Company', 'ResolutionDescription',\n",
            "       'estimated hours ', 'Reported', 'Date'],\n",
            "      dtype='object')\n",
            "(3792, 15)\n"
          ]
        }
      ]
    },
    {
      "cell_type": "code",
      "source": [
        "# Text Representation\n",
        "tfidf_TD = TfidfVectorizer(sublinear_tf=True, min_df=5, norm='l2', encoding='latin-1', ngram_range=(1, 2), stop_words='english')\n",
        "features_TD = tfidf_TD.fit_transform(data['TicketDescription']).toarray()\n",
        "print('The ticket description is represented by ', features_TD.shape[1], 'features')\n",
        "\n",
        "# tfidf_RD = TfidfVectorizer(sublinear_tf=True, min_df=5, norm='l2', encoding='latin-1', ngram_range=(1, 2), stop_words='english')\n",
        "# features_RD = tfidf_RD.fit_transform(data['ResolutionDescription']).toarray()\n",
        "# print('The resolution description is represented by ', features_RD.shape[1], 'features')"
      ],
      "metadata": {
        "colab": {
          "base_uri": "https://localhost:8080/"
        },
        "id": "TVeZ5ScQ45E1",
        "outputId": "3f88aa8c-3795-4adf-f261-1a4189b94cdc"
      },
      "execution_count": null,
      "outputs": [
        {
          "output_type": "stream",
          "name": "stdout",
          "text": [
            "The ticket description is represented by  3338 features\n"
          ]
        }
      ]
    },
    {
      "cell_type": "code",
      "source": [
        "# Get relevant data columns\n",
        "data_ehm = data[data.Servicestypes == 'RequestS']\n",
        "data_ehm = data_ehm[['Priority', 'Impact','SupportGroupName','estimated hours ']]\n",
        "desired_column = 'estimated hours '\n",
        "\n",
        "# Add text representation features\n",
        "data_ehm = pd.concat([data_ehm, pd.DataFrame(features_TD)], axis=1, join = 'inner')"
      ],
      "metadata": {
        "id": "8dWuH1bTZDyJ"
      },
      "execution_count": null,
      "outputs": []
    },
    {
      "cell_type": "code",
      "source": [
        "# Change Priority (P1) to numerical (1)\n",
        "def get_number(string_):\n",
        "  res = [re.findall(r'(\\w+?)(\\d+)', string_)[0]]\n",
        "  return int(res[0][1])\n",
        "  \n",
        "data_ehm.Priority = data_ehm.Priority.apply(get_number)"
      ],
      "metadata": {
        "id": "joR4UlDYfhAa"
      },
      "execution_count": null,
      "outputs": []
    },
    {
      "cell_type": "code",
      "source": [
        "# Check for data imbalance in desired value\n",
        "fig, ax = plt.subplots(figsize=(12, 6))\n",
        "sns.countplot(x=desired_column, data = data_ehm, ax=ax)\n",
        "plt.show()"
      ],
      "metadata": {
        "colab": {
          "base_uri": "https://localhost:8080/"
        },
        "id": "yjRZI4qIZn-h",
        "outputId": "3e08fa0c-af3f-4e81-acb3-f7a7f450db9a"
      },
      "execution_count": null,
      "outputs": [
        {
          "output_type": "display_data",
          "data": {
            "text/plain": [
              "<Figure size 864x432 with 1 Axes>"
            ],
            "image/png": "[encoded data removed]"
          },
          "metadata": {
            "needs_background": "light"
          }
        }
      ]
    },
    {
      "cell_type": "markdown",
      "source": [
        "For the categorical values we need to change our dataset.\n",
        "Instead of SupportGroupName = MMEAI, we create a new column for every support group name. A 1 will mean that the tickets belongs to that support group."
      ],
      "metadata": {
        "id": "uiUa4e3SllN9"
      }
    },
    {
      "cell_type": "code",
      "source": [
        "data_dummy = pd.get_dummies(data_ehm['SupportGroupName'])\n",
        "data_supportgroupdummy = pd.concat([data_ehm, data_dummy], axis=1, join = 'inner')\n",
        "data_supportgroupdummy = data_supportgroupdummy.drop('SupportGroupName', axis=1)"
      ],
      "metadata": {
        "id": "fwQJnC72lkje"
      },
      "execution_count": null,
      "outputs": []
    },
    {
      "cell_type": "markdown",
      "source": [
        "## Over-sampling using SMOTE\n",
        "\n",
        "Creating data balance in y (desired value)\n",
        "\n",
        "Compensate imbalance via up-sampling using Synthetic Minority Oversampling Technique (SMOTE)\n",
        "- Works by creating synthetic samples from the minor class (no-subscription) instead of creating copies.\n",
        "- Randomly choosing one of the k-nearest-neighbors and using it to create a similar, but randomly tweaked, new observations."
      ],
      "metadata": {
        "id": "7lVKPSlTihD8"
      }
    },
    {
      "cell_type": "code",
      "source": [
        "# Splitting data\n",
        "X = data_supportgroupdummy.loc[:, data_supportgroupdummy.columns != desired_column]\n",
        "y = data_supportgroupdummy.loc[:, data_supportgroupdummy.columns == desired_column]\n",
        "\n",
        "os = SMOTE(random_state=0)\n",
        "X_train, X_test, y_train, y_test = train_test_split(X, y, test_size=0.3, random_state=0)\n",
        "\n",
        "# Up-sampling priority\n",
        "columns_X = X_train.columns\n",
        "columns_y = y_train.columns\n",
        "\n",
        "os_data_X, os_data_y = os.fit_resample(X_train, y_train)\n",
        "os_data_X = pd.DataFrame(data=os_data_X, columns=columns_X)\n",
        "os_data_y= pd.DataFrame(data=os_data_y, columns=columns_y)\n",
        "\n",
        "X_train = os_data_X\n",
        "y_train = os_data_y"
      ],
      "metadata": {
        "id": "Ku5KVz7sfeC8"
      },
      "execution_count": null,
      "outputs": []
    },
    {
      "cell_type": "code",
      "source": [
        "# columns_input = os_data_X.columns\n",
        "# data_os = pd.concat([os_data_X, os_data_y], axis=1, join = 'inner')\n",
        "# data_estimated_hours_dummy = pd.get_dummies(data_os[desired_column])\n",
        "# data_final = pd.concat([data_os, data_estimated_hours_dummy], axis=1, join = 'inner')\n",
        "# data_final = data_final.drop(desired_column, axis=1)"
      ],
      "metadata": {
        "id": "he2dNYEk67dw"
      },
      "execution_count": null,
      "outputs": []
    },
    {
      "cell_type": "markdown",
      "source": [
        "## Multiclass Classification Modelling\n",
        "https://towardsdatascience.com/multi-class-classification-one-vs-all-one-vs-one-94daed32a87b#:~:text=Multi-class%20classification%20is%20the%20classification%20technique%20that%20allows,vs.%20One%202.%20Binary%20classification%20vs.%20Multi-class%20classification\n",
        "\n",
        "https://www.geeksforgeeks.org/multiclass-classification-using-scikit-learn/\n",
        "\n",
        "https://towardsdatascience.com/multi-class-text-classification-with-scikit-learn-12f1e60e0a9f\n",
        "\n",
        "\n"
      ],
      "metadata": {
        "id": "I3hKtoAZdJG2"
      }
    },
    {
      "cell_type": "code",
      "source": [
        "def predict_and_calc_MAPE(model_, X_train, y_train, X_test, y_test, title_):\n",
        "  model_fit = model_.fit(X_train, y_train)\n",
        "  y_pred_train = model_fit.predict(X_train)\n",
        "  MAPE_train = mean_absolute_percentage_error(y_train, y_pred_train)*100\n",
        "\n",
        "  y_pred_test = model_fit.predict(X_test)\n",
        "  MAPE_test = mean_absolute_percentage_error(y_test, y_pred_test)*100\n",
        "\n",
        "  print(f\"{title_} - MAPE train:{MAPE_train:.2f}%\")\n",
        "  print(f\"{title_} - MAPE test:{MAPE_test:.2f}%\")\n",
        "\n",
        "  return model_fit, MAPE_train, MAPE_test"
      ],
      "metadata": {
        "id": "7xWom56wCPDZ"
      },
      "execution_count": null,
      "outputs": []
    },
    {
      "cell_type": "code",
      "source": [
        "def show_confusion_matrix(model_fit, X_train, y_train, X_test, y_test, MAPE_train, MAPE_test, title_):\n",
        "  fig, ax = plt.subplots(figsize=(15, 15))\n",
        "  plot_confusion_matrix(model_fit, X_train, y_train, ax=ax, normalize = 'true') \n",
        "  plt.title(f\"{title_} - MAPE train:{MAPE_train:.2f}%\")\n",
        "  \n",
        "  fig, ax = plt.subplots(figsize=(15, 15))\n",
        "  plot_confusion_matrix(model_fit, X_test, y_test, ax=ax, normalize = 'true') \n",
        "  plt.title(f\"{title_} - MAPE test:{MAPE_test:.2f}%\")"
      ],
      "metadata": {
        "id": "lO0LjA5GWe9N"
      },
      "execution_count": null,
      "outputs": []
    },
    {
      "cell_type": "markdown",
      "source": [
        "## Inital testing\n",
        "The all of the algorithms are unable to attain a reasonable MAPE for the test set. Thus, we need to tune the algorithms."
      ],
      "metadata": {
        "id": "K9O9q30QbW9_"
      }
    },
    {
      "cell_type": "code",
      "source": [
        "# Logistic Regression ovr\n",
        "ovr = LogisticRegression(multi_class='ovr')\n",
        "ovr_fit, ovr_MAPE_train, ovr_MAPE_test = predict_and_calc_MAPE(ovr, X_train, y_train, X_test, y_test, 'Logistic Regression ovr')\n",
        "\n",
        "# Decision Tree\n",
        "dtree = DecisionTreeClassifier(max_depth = 200) #, min_samples_split = 2, min_samples_leaf=10)\n",
        "dtree_fit, dtree_MAPE_train, dtree_MAPE_test = predict_and_calc_MAPE(dtree, X_train, y_train, X_test, y_test, 'Decision Tree')\n",
        "\n",
        "# SVC\n",
        "svc = SVC(kernel = 'linear', C = 1)\n",
        "svc_fit, svc_MAPE_train, svc_MAPE_test = predict_and_calc_MAPE(svc, X_train, y_train, X_test, y_test), 'SVC'\n",
        "\n",
        "# KNN\n",
        "knn = KNeighborsClassifier(n_neighbors = 21)\n",
        "knn_fit, knn_MAPE_train, knn_MAPE_test = predict_and_calc_MAPE(knn, X_train, y_train, X_test, y_test, 'KNN')\n",
        "\n",
        "# Naive Bayes\n",
        "gnb = GaussianNB()\n",
        "gnb_fit, gnb_MAPE_train, gnb_MAPE_test = predict_and_calc_MAPE(gnb, X_train, y_train, X_test, y_test, 'GNB')\n",
        "\n",
        "# Naive Bayes - multionomial\n",
        "mnb = MultinomialNB()\n",
        "mnb_fit, mnb_MAPE_train, mnb_MAPE_test = predict_and_calc_MAPE(mnb, X_train, y_train, X_test, y_test, 'MNB')"
      ],
      "metadata": {
        "colab": {
          "base_uri": "https://localhost:8080/"
        },
        "id": "6_NapvCs4cqR",
        "outputId": "033931cc-fa4e-4eaf-cf15-562ff77d978e"
      },
      "execution_count": null,
      "outputs": [
        {
          "output_type": "stream",
          "name": "stdout",
          "text": [
            "MAPE train:79.01%\n",
            "MAPE test:122.00%\n",
            "MAPE train:25.25%\n",
            "MAPE test:114.69%\n",
            "MAPE train:75.01%\n",
            "MAPE test:126.59%\n",
            "MAPE train:109.59%\n",
            "MAPE test:121.23%\n",
            "MAPE train:87.95%\n",
            "MAPE test:134.32%\n",
            "MAPE train:75.84%\n",
            "MAPE test:124.37%\n"
          ]
        }
      ]
    },
    {
      "cell_type": "code",
      "source": [
        "# Confusion Matrix\n",
        "if False:\n",
        "  show_confusion_matrix(ovr_fit, X_train, y_train, X_test, y_test, ovr_MAPE_train, ovr_MAPE_test, 'Logistic Regression ovr')\n",
        "  show_confusion_matrix(dtree_fit, X_train, y_train, X_test, y_test, dtree_MAPE_train, dtree_MAPE_test, 'Decision Tree')\n",
        "  show_confusion_matrix(svc_fit, X_train, y_train, X_test, y_test, svc_MAPE_train, svc_MAPE_test, 'SVC')\n",
        "  show_confusion_matrix(knn_fit, X_train, y_train, X_test, y_test, knn_MAPE_train, knn_MAPE_test, 'KNN')\n",
        "  show_confusion_matrix(gnb_fit, X_train, y_train, X_test, y_test, gnb_MAPE_train, gnb_MAPE_test, 'GNB')\n",
        "  show_confusion_matrix(mnb_fit, X_train, y_train, X_test, y_test, mnb_MAPE_train, mnb_MAPE_test, 'MNB')"
      ],
      "metadata": {
        "id": "WIcv_udbIsiC"
      },
      "execution_count": null,
      "outputs": []
    },
    {
      "cell_type": "markdown",
      "source": [
        "## Decision Tree Tuning\n",
        "\n",
        "The test MAPE does not decrease to an acceptable level.\n",
        "\n",
        "- **Max depth**: The ideal tree is the smallest tree possible, i.e. with fewer splits, that can accurately classify all data points.\n",
        "\n",
        "- **Min_samples_split**: The minimum number of samples required to split an internal node.\n",
        "  *\tIdeal value between 1 to 40.\n",
        "  *\tUsed to control over-fitting.\n",
        "  *\tHigher values prevent a model from learning relations which might be highly specific to the particular sample selected for a tree. \n",
        "  *\tToo high values can also lead to under-fitting hence depending on the level of underfitting or overfitting, you can tune the values for min_samples_split.\n",
        "\n",
        "- **Min_samples_leaf**: The minimum number of samples required to be at a leaf node. A split point at any depth will only be considered if it leaves at least min_samples_leaf training samples in each of the left and right branches. This may have the effect of smoothing the model, especially in regression.\n",
        "  *\tIdeal value between 1 to 20.\n",
        "  *\tUsed to control over-fitting.\n"
      ],
      "metadata": {
        "id": "QoVTysqYbpu8"
      }
    },
    {
      "cell_type": "code",
      "source": [
        "def optimal_depth(params, X_train, y_train, X_test, y_test):\n",
        "  df = pd.DataFrame(columns=['max_depth', 'min_samples_split', 'min_samples_leaf','MAPE_train','MAPE_test'])\n",
        "  best_param = list()\n",
        "  best_MAPE_test = 2000\n",
        "\n",
        "  for param in tqdm_notebook(parameters_list):\n",
        "    try: \n",
        "      model = DecisionTreeClassifier(max_depth = param[0], min_samples_split = param[1], min_samples_leaf = param[2]) \n",
        "      model_fit = model.fit(X_train, y_train)\n",
        "      y_pred_train = model_fit.predict(X_train)\n",
        "      MAPE_train = mean_absolute_percentage_error(y_train, y_pred_train)*100\n",
        "\n",
        "      y_pred_test = model_fit.predict(X_test)\n",
        "      MAPE_test = mean_absolute_percentage_error(y_test, y_pred_test)*100\n",
        "\n",
        "      df2 = pd.DataFrame({'max_depth':[param[0]], \n",
        "                        'min_samples_split':[param[1]], \n",
        "                        'min_samples_leaf':[param[2]],\n",
        "                        'MAPE_train':[MAPE_train],\n",
        "                        'MAPE_test':[MAPE_test]})\n",
        "      df = df.append(df2, ignore_index=True)\n",
        "\n",
        "      if MAPE_test < best_MAPE_test:\n",
        "        best_MAPE_test = MAPE_test\n",
        "        best_param = param\n",
        "    except:\n",
        "        continue\n",
        "\n",
        "  return df, best_param"
      ],
      "metadata": {
        "id": "A6WQv4atPUT1"
      },
      "execution_count": null,
      "outputs": []
    },
    {
      "cell_type": "code",
      "source": [
        "# Optimize decision tree - Set initial values and some bounds\n",
        "d = range(0, 260, 10)  # maximum depth\n",
        "mss = range(2,3) # min_samples_split, to counter over-fitting\n",
        "msl = range(1,2) # min_samples_leaf, to counter over-fitting\n",
        "\n",
        "# Create a list with all possible combinations of parameters\n",
        "parameters = product(d, mss, msl)\n",
        "parameters_list = list(parameters)"
      ],
      "metadata": {
        "id": "M98uhx0bccWW"
      },
      "execution_count": null,
      "outputs": []
    },
    {
      "cell_type": "code",
      "source": [
        "df_dtree, best_param_dtree = optimal_depth(parameters_list, X_train, y_train, X_test, y_test)"
      ],
      "metadata": {
        "colab": {
          "base_uri": "https://localhost:8080/",
          "height": 49,
          "referenced_widgets": [
            "5b3e785cefa04ee8afb4c76732d557ac",
            "5d5b746017ee4cacbb04881dfb486f6e",
            "31b134c453c3402396c6f727efa2ecfd",
            "173f2007490547e990057cfdfb7d1357",
            "df05cf9e3ae24bc7807731920ef1cd4a",
            "2376b9e90e5e4e9fa89186c82b13a8cc",
            "51979778b083433fa626a98ff3a51931",
            "e8cb718df7fc4076b506b3d6b6ebffce",
            "7f8fdd0892c24db98c200b609e99fbe5",
            "ea6842bf50114c3783464a1421cb2f83",
            "b447163c90da422da7178e98d94f657b"
          ]
        },
        "id": "DmFxjP4UQsU3",
        "outputId": "aaf0d8be-48fb-4882-f249-6864c34f1736"
      },
      "execution_count": null,
      "outputs": [
        {
          "output_type": "display_data",
          "data": {
            "text/plain": [
              "  0%|          | 0/26 [00:00<?, ?it/s]"
            ],
            "application/vnd.jupyter.widget-view+json": {
              "version_major": 2,
              "version_minor": 0,
              "model_id": "5b3e785cefa04ee8afb4c76732d557ac"
            }
          },
          "metadata": {}
        }
      ]
    },
    {
      "cell_type": "code",
      "source": [
        "plt.figure()\n",
        "plt.plot(df_dtree.max_depth, df_dtree.MAPE_train, label='MAPE train')\n",
        "plt.plot(df_dtree.max_depth, df_dtree.MAPE_test, label='MAPE test')\n",
        "plt.legend()\n",
        "plt.xlabel('maximum_depth')\n",
        "plt.ylabel('MAPE')\n",
        "plt.title('MAPE of Decision Tree Classifier')"
      ],
      "metadata": {
        "colab": {
          "base_uri": "https://localhost:8080/",
          "height": 318
        },
        "id": "8NTyHiow9Rjb",
        "outputId": "680b39c1-be36-452c-f3a7-b4d7cc13a95c"
      },
      "execution_count": null,
      "outputs": [
        {
          "output_type": "execute_result",
          "data": {
            "text/plain": [
              "Text(0.5, 1.0, 'MAPE of Decision Tree Classifier')"
            ]
          },
          "metadata": {},
          "execution_count": 76
        },
        {
          "output_type": "display_data",
          "data": {
            "text/plain": [
              "<Figure size 432x288 with 1 Axes>"
            ],
            "image/png": "[encoded data removed]"
          },
          "metadata": {
            "needs_background": "light"
          }
        }
      ]
    },
    {
      "cell_type": "markdown",
      "source": [
        "## SVC tuning\n"
      ],
      "metadata": {
        "id": "BB0-EpEIIu_i"
      }
    },
    {
      "cell_type": "code",
      "source": [
        "# Optimize SVC - Set initial values and some bounds\n",
        "d = range(0, 260, 10)  # maximum depth\n",
        "mss = range(2,3) # min_samples_split, to counter over-fitting\n",
        "msl = range(1,2) # min_samples_leaf, to counter over-fitting\n",
        "\n",
        "# Create a list with all possible combinations of parameters\n",
        "parameters = product(d, mss, msl)\n",
        "parameters_list = list(parameters)"
      ],
      "metadata": {
        "id": "IqD6PoXsHLuC"
      },
      "execution_count": null,
      "outputs": []
    }
  ],
  "metadata": {
    "colab": {
      "collapsed_sections": [
        "1S07RaDvMWZJ",
        "QWbKuTPxjbd3",
        "-0UqMN_mjnI3",
        "mX3BqfStNjjg",
        "IFUnl74hCl-f",
        "pfqa2nOVpDOe",
        "PsELaseA5ygw",
        "Y5G4jMuKfdo8",
        "PaAKtBOOdRjf",
        "7lVKPSlTihD8"
      ],
      "name": "Amount of tickets for support groups (predictive analytics).ipynb",
      "provenance": [],
      "include_colab_link": true
    },
    "kernelspec": {
      "display_name": "Python 3",
      "name": "python3"
    },
    "language_info": {
      "name": "python"
    },
    "widgets": {
      "application/vnd.jupyter.widget-state+json": {
        "5b3e785cefa04ee8afb4c76732d557ac": {
          "model_module": "@jupyter-widgets/controls",
          "model_name": "HBoxModel",
          "model_module_version": "1.5.0",
          "state": {
            "_dom_classes": [],
            "_model_module": "@jupyter-widgets/controls",
            "_model_module_version": "1.5.0",
            "_model_name": "HBoxModel",
            "_view_count": null,
            "_view_module": "@jupyter-widgets/controls",
            "_view_module_version": "1.5.0",
            "_view_name": "HBoxView",
            "box_style": "",
            "children": [
              "IPY_MODEL_5d5b746017ee4cacbb04881dfb486f6e",
              "IPY_MODEL_31b134c453c3402396c6f727efa2ecfd",
              "IPY_MODEL_173f2007490547e990057cfdfb7d1357"
            ],
            "layout": "IPY_MODEL_df05cf9e3ae24bc7807731920ef1cd4a"
          }
        },
        "5d5b746017ee4cacbb04881dfb486f6e": {
          "model_module": "@jupyter-widgets/controls",
          "model_name": "HTMLModel",
          "model_module_version": "1.5.0",
          "state": {
            "_dom_classes": [],
            "_model_module": "@jupyter-widgets/controls",
            "_model_module_version": "1.5.0",
            "_model_name": "HTMLModel",
            "_view_count": null,
            "_view_module": "@jupyter-widgets/controls",
            "_view_module_version": "1.5.0",
            "_view_name": "HTMLView",
            "description": "",
            "description_tooltip": null,
            "layout": "IPY_MODEL_2376b9e90e5e4e9fa89186c82b13a8cc",
            "placeholder": "​",
            "style": "IPY_MODEL_51979778b083433fa626a98ff3a51931",
            "value": "100%"
          }
        },
        "31b134c453c3402396c6f727efa2ecfd": {
          "model_module": "@jupyter-widgets/controls",
          "model_name": "FloatProgressModel",
          "model_module_version": "1.5.0",
          "state": {
            "_dom_classes": [],
            "_model_module": "@jupyter-widgets/controls",
            "_model_module_version": "1.5.0",
            "_model_name": "FloatProgressModel",
            "_view_count": null,
            "_view_module": "@jupyter-widgets/controls",
            "_view_module_version": "1.5.0",
            "_view_name": "ProgressView",
            "bar_style": "success",
            "description": "",
            "description_tooltip": null,
            "layout": "IPY_MODEL_e8cb718df7fc4076b506b3d6b6ebffce",
            "max": 26,
            "min": 0,
            "orientation": "horizontal",
            "style": "IPY_MODEL_7f8fdd0892c24db98c200b609e99fbe5",
            "value": 26
          }
        },
        "173f2007490547e990057cfdfb7d1357": {
          "model_module": "@jupyter-widgets/controls",
          "model_name": "HTMLModel",
          "model_module_version": "1.5.0",
          "state": {
            "_dom_classes": [],
            "_model_module": "@jupyter-widgets/controls",
            "_model_module_version": "1.5.0",
            "_model_name": "HTMLModel",
            "_view_count": null,
            "_view_module": "@jupyter-widgets/controls",
            "_view_module_version": "1.5.0",
            "_view_name": "HTMLView",
            "description": "",
            "description_tooltip": null,
            "layout": "IPY_MODEL_ea6842bf50114c3783464a1421cb2f83",
            "placeholder": "​",
            "style": "IPY_MODEL_b447163c90da422da7178e98d94f657b",
            "value": " 26/26 [01:35&lt;00:00,  5.29s/it]"
          }
        },
        "df05cf9e3ae24bc7807731920ef1cd4a": {
          "model_module": "@jupyter-widgets/base",
          "model_name": "LayoutModel",
          "model_module_version": "1.2.0",
          "state": {
            "_model_module": "@jupyter-widgets/base",
            "_model_module_version": "1.2.0",
            "_model_name": "LayoutModel",
            "_view_count": null,
            "_view_module": "@jupyter-widgets/base",
            "_view_module_version": "1.2.0",
            "_view_name": "LayoutView",
            "align_content": null,
            "align_items": null,
            "align_self": null,
            "border": null,
            "bottom": null,
            "display": null,
            "flex": null,
            "flex_flow": null,
            "grid_area": null,
            "grid_auto_columns": null,
            "grid_auto_flow": null,
            "grid_auto_rows": null,
            "grid_column": null,
            "grid_gap": null,
            "grid_row": null,
            "grid_template_areas": null,
            "grid_template_columns": null,
            "grid_template_rows": null,
            "height": null,
            "justify_content": null,
            "justify_items": null,
            "left": null,
            "margin": null,
            "max_height": null,
            "max_width": null,
            "min_height": null,
            "min_width": null,
            "object_fit": null,
            "object_position": null,
            "order": null,
            "overflow": null,
            "overflow_x": null,
            "overflow_y": null,
            "padding": null,
            "right": null,
            "top": null,
            "visibility": null,
            "width": null
          }
        },
        "2376b9e90e5e4e9fa89186c82b13a8cc": {
          "model_module": "@jupyter-widgets/base",
          "model_name": "LayoutModel",
          "model_module_version": "1.2.0",
          "state": {
            "_model_module": "@jupyter-widgets/base",
            "_model_module_version": "1.2.0",
            "_model_name": "LayoutModel",
            "_view_count": null,
            "_view_module": "@jupyter-widgets/base",
            "_view_module_version": "1.2.0",
            "_view_name": "LayoutView",
            "align_content": null,
            "align_items": null,
            "align_self": null,
            "border": null,
            "bottom": null,
            "display": null,
            "flex": null,
            "flex_flow": null,
            "grid_area": null,
            "grid_auto_columns": null,
            "grid_auto_flow": null,
            "grid_auto_rows": null,
            "grid_column": null,
            "grid_gap": null,
            "grid_row": null,
            "grid_template_areas": null,
            "grid_template_columns": null,
            "grid_template_rows": null,
            "height": null,
            "justify_content": null,
            "justify_items": null,
            "left": null,
            "margin": null,
            "max_height": null,
            "max_width": null,
            "min_height": null,
            "min_width": null,
            "object_fit": null,
            "object_position": null,
            "order": null,
            "overflow": null,
            "overflow_x": null,
            "overflow_y": null,
            "padding": null,
            "right": null,
            "top": null,
            "visibility": null,
            "width": null
          }
        },
        "51979778b083433fa626a98ff3a51931": {
          "model_module": "@jupyter-widgets/controls",
          "model_name": "DescriptionStyleModel",
          "model_module_version": "1.5.0",
          "state": {
            "_model_module": "@jupyter-widgets/controls",
            "_model_module_version": "1.5.0",
            "_model_name": "DescriptionStyleModel",
            "_view_count": null,
            "_view_module": "@jupyter-widgets/base",
            "_view_module_version": "1.2.0",
            "_view_name": "StyleView",
            "description_width": ""
          }
        },
        "e8cb718df7fc4076b506b3d6b6ebffce": {
          "model_module": "@jupyter-widgets/base",
          "model_name": "LayoutModel",
          "model_module_version": "1.2.0",
          "state": {
            "_model_module": "@jupyter-widgets/base",
            "_model_module_version": "1.2.0",
            "_model_name": "LayoutModel",
            "_view_count": null,
            "_view_module": "@jupyter-widgets/base",
            "_view_module_version": "1.2.0",
            "_view_name": "LayoutView",
            "align_content": null,
            "align_items": null,
            "align_self": null,
            "border": null,
            "bottom": null,
            "display": null,
            "flex": null,
            "flex_flow": null,
            "grid_area": null,
            "grid_auto_columns": null,
            "grid_auto_flow": null,
            "grid_auto_rows": null,
            "grid_column": null,
            "grid_gap": null,
            "grid_row": null,
            "grid_template_areas": null,
            "grid_template_columns": null,
            "grid_template_rows": null,
            "height": null,
            "justify_content": null,
            "justify_items": null,
            "left": null,
            "margin": null,
            "max_height": null,
            "max_width": null,
            "min_height": null,
            "min_width": null,
            "object_fit": null,
            "object_position": null,
            "order": null,
            "overflow": null,
            "overflow_x": null,
            "overflow_y": null,
            "padding": null,
            "right": null,
            "top": null,
            "visibility": null,
            "width": null
          }
        },
        "7f8fdd0892c24db98c200b609e99fbe5": {
          "model_module": "@jupyter-widgets/controls",
          "model_name": "ProgressStyleModel",
          "model_module_version": "1.5.0",
          "state": {
            "_model_module": "@jupyter-widgets/controls",
            "_model_module_version": "1.5.0",
            "_model_name": "ProgressStyleModel",
            "_view_count": null,
            "_view_module": "@jupyter-widgets/base",
            "_view_module_version": "1.2.0",
            "_view_name": "StyleView",
            "bar_color": null,
            "description_width": ""
          }
        },
        "ea6842bf50114c3783464a1421cb2f83": {
          "model_module": "@jupyter-widgets/base",
          "model_name": "LayoutModel",
          "model_module_version": "1.2.0",
          "state": {
            "_model_module": "@jupyter-widgets/base",
            "_model_module_version": "1.2.0",
            "_model_name": "LayoutModel",
            "_view_count": null,
            "_view_module": "@jupyter-widgets/base",
            "_view_module_version": "1.2.0",
            "_view_name": "LayoutView",
            "align_content": null,
            "align_items": null,
            "align_self": null,
            "border": null,
            "bottom": null,
            "display": null,
            "flex": null,
            "flex_flow": null,
            "grid_area": null,
            "grid_auto_columns": null,
            "grid_auto_flow": null,
            "grid_auto_rows": null,
            "grid_column": null,
            "grid_gap": null,
            "grid_row": null,
            "grid_template_areas": null,
            "grid_template_columns": null,
            "grid_template_rows": null,
            "height": null,
            "justify_content": null,
            "justify_items": null,
            "left": null,
            "margin": null,
            "max_height": null,
            "max_width": null,
            "min_height": null,
            "min_width": null,
            "object_fit": null,
            "object_position": null,
            "order": null,
            "overflow": null,
            "overflow_x": null,
            "overflow_y": null,
            "padding": null,
            "right": null,
            "top": null,
            "visibility": null,
            "width": null
          }
        },
        "b447163c90da422da7178e98d94f657b": {
          "model_module": "@jupyter-widgets/controls",
          "model_name": "DescriptionStyleModel",
          "model_module_version": "1.5.0",
          "state": {
            "_model_module": "@jupyter-widgets/controls",
            "_model_module_version": "1.5.0",
            "_model_name": "DescriptionStyleModel",
            "_view_count": null,
            "_view_module": "@jupyter-widgets/base",
            "_view_module_version": "1.2.0",
            "_view_name": "StyleView",
            "description_width": ""
          }
        }
      }
    }
  },
  "nbformat": 4,
  "nbformat_minor": 0
}