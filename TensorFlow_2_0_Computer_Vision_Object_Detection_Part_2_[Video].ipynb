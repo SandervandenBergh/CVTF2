{
  "nbformat": 4,
  "nbformat_minor": 0,
  "metadata": {
    "colab": {
      "name": "TensorFlow 2.0 Computer Vision Object Detection Part 2 [Video].ipynb",
      "provenance": [],
      "collapsed_sections": [],
      "include_colab_link": true
    },
    "kernelspec": {
      "name": "python3",
      "display_name": "Python 3"
    },
    "language_info": {
      "name": "python"
    },
    "accelerator": "GPU"
  },
  "cells": [
    {
      "cell_type": "markdown",
      "metadata": {
        "id": "view-in-github",
        "colab_type": "text"
      },
      "source": [
        "<a href=\"https://colab.research.google.com/github/SandervandenBergh/CVTF2/blob/main/TensorFlow_2_0_Computer_Vision_Object_Detection_Part_2_%5BVideo%5D.ipynb\" target=\"_parent\"><img src=\"https://colab.research.google.com/assets/colab-badge.svg\" alt=\"Open In Colab\"/></a>"
      ]
    },
    {
      "cell_type": "markdown",
      "metadata": {
        "id": "e2GB33SeJO-9"
      },
      "source": [
        "## Clone Tensorflow Models Repository"
      ]
    },
    {
      "cell_type": "code",
      "metadata": {
        "id": "ZTwuLQj4JGDM"
      },
      "source": [
        "!git clone https://github.com/tensorflow/models.git"
      ],
      "execution_count": null,
      "outputs": []
    },
    {
      "cell_type": "markdown",
      "metadata": {
        "id": "2IfyWba5JT_T"
      },
      "source": [
        "## Install Protobuf\n",
        "\n",
        "No need to do this if you are on Colab.\n",
        "\n",
        "Just hit the run button on the cell below "
      ]
    },
    {
      "cell_type": "code",
      "metadata": {
        "id": "A9kWqSxMJIHO"
      },
      "source": [
        "!cd models/research/ && protoc object_detection/protos/*.proto --python_out=."
      ],
      "execution_count": null,
      "outputs": []
    },
    {
      "cell_type": "markdown",
      "metadata": {
        "id": "LEiCnyYPKfmS"
      },
      "source": [
        "## Install the object detection API"
      ]
    },
    {
      "cell_type": "code",
      "metadata": {
        "id": "62uWk8rBKc2R"
      },
      "source": [
        "!cd models/research && \\\n",
        "    cp object_detection/packages/tf2/setup.py . && \\\n",
        "    python -m pip install ."
      ],
      "execution_count": null,
      "outputs": []
    },
    {
      "cell_type": "markdown",
      "metadata": {
        "id": "5hyVeO6PKofm"
      },
      "source": [
        "## Test Installation (Optional)"
      ]
    },
    {
      "cell_type": "code",
      "metadata": {
        "id": "w_mkb5tkKl0i"
      },
      "source": [
        "# !cd models/research && python object_detection/builders/model_builder_tf2_test.py"
      ],
      "execution_count": null,
      "outputs": []
    },
    {
      "cell_type": "markdown",
      "metadata": {
        "id": "E9uF69EyK9NB"
      },
      "source": [
        "## Import Libraries"
      ]
    },
    {
      "cell_type": "code",
      "metadata": {
        "id": "m6B7b0QoK-4h"
      },
      "source": [
        "import os\n",
        "import imageio\n",
        "import pathlib\n",
        "import tensorflow as tf\n",
        "\n",
        "import time\n",
        "from object_detection.utils import label_map_util\n",
        "from object_detection.utils import visualization_utils as viz_utils\n",
        "\n",
        "import numpy as np\n",
        "from PIL import Image\n",
        "import matplotlib.pyplot as plt\n",
        "\n",
        "%matplotlib inline"
      ],
      "execution_count": null,
      "outputs": []
    },
    {
      "cell_type": "code",
      "metadata": {
        "id": "0aDDdrlXLMLt"
      },
      "source": [
        "# Enable GPUs\n",
        "gpus = tf.config.experimental.list_physical_devices('GPU')\n",
        "for gpu in gpus:\n",
        "    tf.config.experimental.set_memory_growth(gpu, True)"
      ],
      "execution_count": null,
      "outputs": []
    },
    {
      "cell_type": "markdown",
      "metadata": {
        "id": "_XKjRVYUKz-T"
      },
      "source": [
        "## Download Videos"
      ]
    },
    {
      "cell_type": "code",
      "metadata": {
        "id": "aSH_uOT0LO0p"
      },
      "source": [
        "# !wget -nc https://github.com/SandervandenBergh/CVTF2/blob/main/Videos/Person.mp4"
      ],
      "execution_count": null,
      "outputs": []
    },
    {
      "cell_type": "code",
      "source": [
        "# !wget -nc https://github.com/SandervandenBergh/CVTF2/blob/main/Videos/Accenture.mp4"
      ],
      "metadata": {
        "id": "8QCHoZPSrcDe"
      },
      "execution_count": null,
      "outputs": []
    },
    {
      "cell_type": "code",
      "source": [
        "# !wget -nc https://github.com/SandervandenBergh/CVTF2/blob/main/Videos/Dogs.mp4"
      ],
      "metadata": {
        "id": "qnLPAtfnrccc"
      },
      "execution_count": null,
      "outputs": []
    },
    {
      "cell_type": "code",
      "metadata": {
        "id": "Kw4TDCiBQ_Ze"
      },
      "source": [
        "# !unzip VideosTF2CV.zip"
      ],
      "execution_count": null,
      "outputs": []
    },
    {
      "cell_type": "code",
      "metadata": {
        "id": "PLsVNCb-MzB5"
      },
      "source": [
        "!ls "
      ],
      "execution_count": null,
      "outputs": []
    },
    {
      "cell_type": "code",
      "metadata": {
        "id": "yk_wVy7EMdwV"
      },
      "source": [
        "INPUT_VIDEOS = ['Person', 'Accenture', 'Dogs'] # Labels [0, 1, 2]"
      ],
      "execution_count": null,
      "outputs": []
    },
    {
      "cell_type": "markdown",
      "metadata": {
        "id": "eoDKiMzHNIDM"
      },
      "source": [
        "## Download and extract model files\n",
        "\n",
        "Get URLs from the \"Object Detection Zoo\": https://github.com/tensorflow/models/blob/master/research/object_detection/g3doc/tf2_detection_zoo.md"
      ]
    },
    {
      "cell_type": "code",
      "metadata": {
        "id": "-v832iNDM7vg"
      },
      "source": [
        "url = 'http://download.tensorflow.org/models/object_detection/tf2/20200711/ssd_resnet101_v1_fpn_640x640_coco17_tpu-8.tar.gz'\n",
        "\n",
        "PATH_TO_MODEL_DIR = tf.keras.utils.get_file(\n",
        "    fname='ssd_resnet101_v1_fpn_640x640_coco17_tpu-8',\n",
        "    origin=url,\n",
        "    untar=True)"
      ],
      "execution_count": null,
      "outputs": []
    },
    {
      "cell_type": "code",
      "metadata": {
        "id": "8FABB-ehNtri"
      },
      "source": [
        "PATH_TO_MODEL_DIR"
      ],
      "execution_count": null,
      "outputs": []
    },
    {
      "cell_type": "markdown",
      "metadata": {
        "id": "JD3tciH_N6_j"
      },
      "source": [
        "## Download Labels File\n",
        "\n",
        "Label files can be found here: https://github.com/tensorflow/models/tree/master/research/object_detection/data\n",
        "\n",
        "You probably won't need these since Object Detection Zoo contains only models trained on COCO."
      ]
    },
    {
      "cell_type": "code",
      "metadata": {
        "id": "MWgbeVHxNwGo"
      },
      "source": [
        "url = 'https://raw.githubusercontent.com/tensorflow/models/master/research/object_detection/data/mscoco_label_map.pbtxt'\n",
        "\n",
        "PATH_TO_LABELS = tf.keras.utils.get_file(\n",
        "    fname='mscoco_label_map.pbtxt',\n",
        "    origin=url,\n",
        "    untar=False)"
      ],
      "execution_count": null,
      "outputs": []
    },
    {
      "cell_type": "code",
      "metadata": {
        "id": "WPyGQN0WOMJs"
      },
      "source": [
        "PATH_TO_LABELS"
      ],
      "execution_count": null,
      "outputs": []
    },
    {
      "cell_type": "code",
      "metadata": {
        "id": "O3CFWDq8ONaj"
      },
      "source": [
        "!head {PATH_TO_LABELS}"
      ],
      "execution_count": null,
      "outputs": []
    },
    {
      "cell_type": "markdown",
      "metadata": {
        "id": "21Kdl6BnO06F"
      },
      "source": [
        "## Load in the model"
      ]
    },
    {
      "cell_type": "code",
      "metadata": {
        "id": "KYJ9p1KmOOfz"
      },
      "source": [
        "PATH_TO_SAVED_MODEL = PATH_TO_MODEL_DIR + \"/saved_model\"\n",
        "\n",
        "print('Loading model...', end='')\n",
        "start_time = time.time()\n",
        "\n",
        "# Load saved model and build the detection function\n",
        "detect_fn = tf.saved_model.load(PATH_TO_SAVED_MODEL)\n",
        "\n",
        "end_time = time.time()\n",
        "elapsed_time = end_time - start_time\n",
        "print('Done! Took {} seconds'.format(elapsed_time))"
      ],
      "execution_count": null,
      "outputs": []
    },
    {
      "cell_type": "markdown",
      "metadata": {
        "id": "HzSdu5_lO63X"
      },
      "source": [
        "## Load in the labels"
      ]
    },
    {
      "cell_type": "code",
      "metadata": {
        "id": "ztjFZleoO5ny"
      },
      "source": [
        "category_index = label_map_util.create_category_index_from_labelmap(\n",
        "    PATH_TO_LABELS,\n",
        "    use_display_name=True)"
      ],
      "execution_count": null,
      "outputs": []
    },
    {
      "cell_type": "code",
      "metadata": {
        "id": "pPRderVGO2C8"
      },
      "source": [
        "category_index"
      ],
      "execution_count": null,
      "outputs": []
    },
    {
      "cell_type": "markdown",
      "metadata": {
        "id": "bOd-tu-oPLsF"
      },
      "source": [
        "## Let's some object detection (once more)"
      ]
    },
    {
      "cell_type": "code",
      "metadata": {
        "id": "padtxBzjPIgR"
      },
      "source": [
        "def detect_objects_in_image(image_np):\n",
        "    # The input needs to be a tensor, convert it using `tf.convert_to_tensor`.\n",
        "    input_tensor = tf.convert_to_tensor(image_np)\n",
        "\n",
        "    # The model expects a batch of images, so add an axis with `tf.newaxis`.\n",
        "    input_tensor = input_tensor[tf.newaxis, ...]\n",
        "\n",
        "    # input_tensor = np.expand_dims(image_np, 0)\n",
        "    detections = detect_fn(input_tensor)\n",
        "\n",
        "    # All outputs are batches tensors.\n",
        "    # Convert to numpy arrays, and take index [0] to remove the batch dimension.\n",
        "    # We're only interested in the first num_detections.\n",
        "    num_detections = int(detections.pop('num_detections'))\n",
        "    detections = {key: value[0, :num_detections].numpy()\n",
        "                   for key, value in detections.items()}\n",
        "    detections['num_detections'] = num_detections\n",
        "\n",
        "    # detection_classes should be ints.\n",
        "    detections['detection_classes'] = detections['detection_classes'].astype(np.int64)\n",
        "\n",
        "    image_np_with_detections = image_np.copy()\n",
        "\n",
        "    viz_utils.visualize_boxes_and_labels_on_image_array(\n",
        "          image_np_with_detections,\n",
        "          detections['detection_boxes'],\n",
        "          detections['detection_classes'],\n",
        "          detections['detection_scores'],\n",
        "          category_index,\n",
        "          use_normalized_coordinates=True,\n",
        "          max_boxes_to_draw=200,\n",
        "          min_score_thresh=.30,\n",
        "          agnostic_mode=False)\n",
        "    return image_np_with_detections\n",
        "\n",
        "\n",
        "def detect_objects_in_video(input_video):\n",
        "    print(f'Running inference for {input_video}.mp4... ', end='')\n",
        "\n",
        "    video_reader = imageio.get_reader(f'{input_video}.mp4')\n",
        "    video_writer = imageio.get_writer(f'{input_video}_annotated.mp4', fps=10)\n",
        "\n",
        "    # loop through and process each frame\n",
        "    t0 = time.time()\n",
        "    n_frames = 0\n",
        "    for frame in video_reader:\n",
        "        n_frames += 1\n",
        "        new_frame = detect_objects_in_image(frame)\n",
        "\n",
        "        # instead of plotting image, we write the frame to video\n",
        "        video_writer.append_data(new_frame)\n",
        "    \n",
        "    fps = n_frames / (time.time() - t0)\n",
        "    print(\"Frames processed: %s, Speed: %s fps\" % (n_frames, fps))\n",
        "\n",
        "    # clean up\n",
        "    video_writer.close()"
      ],
      "execution_count": null,
      "outputs": []
    },
    {
      "cell_type": "code",
      "metadata": {
        "id": "_BitrPDFPggI"
      },
      "source": [
        "detect_objects_in_video(INPUT_VIDEOS[0])"
      ],
      "execution_count": null,
      "outputs": []
    },
    {
      "cell_type": "code",
      "metadata": {
        "id": "r7qeg-VYPi4O"
      },
      "source": [
        "detect_objects_in_video(INPUT_VIDEOS[1])"
      ],
      "execution_count": null,
      "outputs": []
    },
    {
      "cell_type": "code",
      "metadata": {
        "id": "y5UcZeUXPmuO"
      },
      "source": [
        "detect_objects_in_video(INPUT_VIDEOS[2])"
      ],
      "execution_count": null,
      "outputs": []
    }
  ]
}